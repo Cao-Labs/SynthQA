{
 "cells": [
  {
   "cell_type": "markdown",
   "metadata": {
    "run_control": {
     "frozen": false,
     "read_only": false
    }
   },
   "source": [
    "# About"
   ]
  },
  {
   "cell_type": "markdown",
   "metadata": {
    "ExecuteTime": {
     "end_time": "2017-08-13T15:28:45.919964Z",
     "start_time": "2017-08-13T15:28:45.858099Z"
    },
    "run_control": {
     "frozen": false,
     "read_only": false
    }
   },
   "source": [
    "`SBROD` is a method for single-model (Smooth Backbone-Reliant Orientation-Dependent) protein quality assessment."
   ]
  },
  {
   "cell_type": "markdown",
   "metadata": {
    "run_control": {
     "frozen": false,
     "read_only": false
    }
   },
   "source": [
    "# Use cases"
   ]
  },
  {
   "cell_type": "markdown",
   "metadata": {},
   "source": [
    "Here we introduce various applications and typical use cases for `SBROD`."
   ]
  },
  {
   "cell_type": "markdown",
   "metadata": {
    "run_control": {
     "frozen": false,
     "read_only": false
    }
   },
   "source": [
    "## Rank protein models"
   ]
  },
  {
   "cell_type": "markdown",
   "metadata": {},
   "source": [
    "The main purpose of `SBROD` is the ranking of predicted protein structures."
   ]
  },
  {
   "cell_type": "markdown",
   "metadata": {
    "run_control": {
     "frozen": false,
     "read_only": false
    }
   },
   "source": [
    "### Standalone application"
   ]
  },
  {
   "cell_type": "markdown",
   "metadata": {
    "run_control": {
     "frozen": false,
     "read_only": false
    }
   },
   "source": [
    "`SBROD` is freely available for download at https://drive.google.com/drive/folders/0B3zcrZZIqs3fTGx6RVI3ZnVtNUU."
   ]
  },
  {
   "cell_type": "markdown",
   "metadata": {
    "run_control": {
     "frozen": false,
     "read_only": false
    }
   },
   "source": [
    "First, we download its standalone executable."
   ]
  },
  {
   "cell_type": "code",
   "execution_count": 1,
   "metadata": {
    "ExecuteTime": {
     "end_time": "2017-08-15T00:06:22.656503Z",
     "start_time": "2017-08-15T00:06:22.545595Z"
    },
    "run_control": {
     "frozen": false,
     "read_only": false
    }
   },
   "outputs": [
    {
     "name": "stdout",
     "output_type": "stream",
     "text": [
      "/Users/mike/sbrod/tutorial/data\n"
     ]
    }
   ],
   "source": [
    "!mkdir -p data\n",
    "%cd data"
   ]
  },
  {
   "cell_type": "code",
   "execution_count": 2,
   "metadata": {
    "ExecuteTime": {
     "end_time": "2017-08-15T00:06:42.831441Z",
     "start_time": "2017-08-15T00:06:23.491730Z"
    },
    "run_control": {
     "frozen": false,
     "read_only": false
    },
    "scrolled": true
   },
   "outputs": [
    {
     "name": "stdout",
     "output_type": "stream",
     "text": [
      "  % Total    % Received % Xferd  Average Speed   Time    Time     Time  Current\n",
      "                                 Dload  Upload   Total   Spent    Left  Speed\n",
      "100   383    0   383    0     0     85      0 --:--:--  0:00:04 --:--:--    85\n",
      "100 45.2M    0 45.2M    0     0  3725k      0 --:--:--  0:00:12 --:--:-- 6609k\n",
      "curl: Saved to filename 'macos.zip'\n"
     ]
    }
   ],
   "source": [
    "# linux\n",
    "# !../gdrive_download.sh \"https://drive.google.com/open?id=0B3zcrZZIqs3fcE9pSWRWRGpCdmc\"\n",
    "# MacOS\n",
    "!../gdrive_download.sh \"https://drive.google.com/open?id=0B3zcrZZIqs3fODhGUTU0dFVrTjA\""
   ]
  },
  {
   "cell_type": "markdown",
   "metadata": {
    "run_control": {
     "frozen": false,
     "read_only": false
    }
   },
   "source": [
    "Let's unzip the executables."
   ]
  },
  {
   "cell_type": "code",
   "execution_count": 3,
   "metadata": {
    "ExecuteTime": {
     "end_time": "2017-08-15T00:06:43.456463Z",
     "start_time": "2017-08-15T00:06:42.832836Z"
    },
    "run_control": {
     "frozen": false,
     "read_only": false
    }
   },
   "outputs": [
    {
     "name": "stdout",
     "output_type": "stream",
     "text": [
      "Archive:  macos.zip\n",
      "  inflating: README                  \n",
      "   creating: base/\n",
      "  inflating: base/pipeline.pkl       \n",
      "  inflating: base/Rotamers           \n",
      "  inflating: sbrod                   \n"
     ]
    }
   ],
   "source": [
    "!unzip -o *.zip"
   ]
  },
  {
   "cell_type": "markdown",
   "metadata": {
    "run_control": {
     "frozen": false,
     "read_only": false
    }
   },
   "source": [
    "Now we are ready to assess protein models, but first, we must have some protein structures to rank.\n",
    "\n",
    "Let's download predicted domains `T0866-D1` from the `CASP12` experiment."
   ]
  },
  {
   "cell_type": "code",
   "execution_count": 4,
   "metadata": {
    "ExecuteTime": {
     "end_time": "2017-08-15T00:06:49.496093Z",
     "start_time": "2017-08-15T00:06:43.457830Z"
    },
    "run_control": {
     "frozen": false,
     "read_only": false
    }
   },
   "outputs": [
    {
     "name": "stdout",
     "output_type": "stream",
     "text": [
      "--2018-05-19 20:19:51--  http://predictioncenter.org/download_area/CASP12/predictions_trimmed_to_domains/T0866-D1.tar.gz\n",
      "Resolving predictioncenter.org (predictioncenter.org)... 128.120.136.187\n",
      "Connecting to predictioncenter.org (predictioncenter.org)|128.120.136.187|:80... connected.\n",
      "HTTP request sent, awaiting response... 200 OK\n",
      "Length: 7165886 (6.8M) [application/x-gzip]\n",
      "Saving to: ‘T0866-D1.tar.gz’\n",
      "\n",
      "T0866-D1.tar.gz     100%[===================>]   6.83M  2.01MB/s    in 3.4s    \n",
      "\n",
      "2018-05-19 20:19:55 (2.01 MB/s) - ‘T0866-D1.tar.gz’ saved [7165886/7165886]\n",
      "\n",
      "     504     504    8064\n"
     ]
    }
   ],
   "source": [
    "decoy_set = 'T0866-D1'\n",
    "!wget http://predictioncenter.org/download_area/CASP12/predictions_trimmed_to_domains/{decoy_set}.tar.gz\n",
    "!tar -xf {decoy_set}.tar.gz\n",
    "!ls {decoy_set} | wc"
   ]
  },
  {
   "cell_type": "markdown",
   "metadata": {
    "run_control": {
     "frozen": false,
     "read_only": false
    }
   },
   "source": [
    "Now, we are going to assess the quality of downloaded protein structures.\n",
    "\n",
    "The SBROD scores can be considered only as relative scores. That is, the SBROD scores can be used to compare different protein models with same amino acid sequences to select protein models with the highest SBROD scores.\n",
    "\n",
    "Note that in general, SBROD scores do not show any relations between protein structures with different sequences, and therefore native structures."
   ]
  },
  {
   "cell_type": "code",
   "execution_count": 5,
   "metadata": {
    "ExecuteTime": {
     "end_time": "2017-08-15T00:10:50.310965Z",
     "start_time": "2017-08-15T00:08:42.932929Z"
    },
    "run_control": {
     "frozen": false,
     "read_only": false
    },
    "scrolled": true
   },
   "outputs": [
    {
     "name": "stdout",
     "output_type": "stream",
     "text": [
      "T0866-D1/T0866TS001_1-D1\t1.2496446336272236\r\n",
      "T0866-D1/T0866TS001_2-D1\t1.460282546088654\r\n",
      "T0866-D1/T0866TS001_3-D1\t1.5295647006812156\r\n",
      "T0866-D1/T0866TS001_4-D1\t1.442941733872698\r\n",
      "T0866-D1/T0866TS001_5-D1\t1.8361990476328498\r\n",
      "T0866-D1/T0866TS004_1-D1\t1.4714568872468246\r\n",
      "T0866-D1/T0866TS004_2-D1\t1.5938218223622207\r\n",
      "T0866-D1/T0866TS004_3-D1\t1.4857605225081942\r\n",
      "T0866-D1/T0866TS004_4-D1\t1.5734461364025227\r\n",
      "T0866-D1/T0866TS004_5-D1\t1.5428455942179706\r\n"
     ]
    }
   ],
   "source": [
    "!./sbrod T0866-D1/* > scores.txt\n",
    "!head -10 scores.txt"
   ]
  },
  {
   "cell_type": "code",
   "execution_count": 6,
   "metadata": {
    "ExecuteTime": {
     "end_time": "2017-08-15T00:10:50.717016Z",
     "start_time": "2017-08-15T00:10:50.312779Z"
    },
    "run_control": {
     "frozen": false,
     "read_only": false
    }
   },
   "outputs": [],
   "source": [
    "import numpy as np\n",
    "import scipy\n",
    "import pandas as pd\n",
    "from matplotlib import pyplot as plt\n",
    "from IPython.display import set_matplotlib_formats\n",
    "set_matplotlib_formats('png', 'pdf')\n",
    "import joblib\n",
    "from IPython.utils import io\n",
    "\n",
    "%matplotlib inline\n",
    "%load_ext autoreload\n",
    "%autoreload 2"
   ]
  },
  {
   "cell_type": "code",
   "execution_count": 7,
   "metadata": {
    "ExecuteTime": {
     "end_time": "2017-08-15T00:12:21.590988Z",
     "start_time": "2017-08-15T00:12:20.928421Z"
    },
    "run_control": {
     "frozen": false,
     "read_only": false
    }
   },
   "outputs": [
    {
     "data": {
      "image/png": "[encoded data removed]",
      "text/plain": [
       "<Figure size 720x360 with 1 Axes>"
      ]
     },
     "metadata": {},
     "output_type": "display_data"
    }
   ],
   "source": [
    "plt.figure()\n",
    "ax = plt.gca()\n",
    "predicted_scores = pd.read_csv('scores.txt', sep='\\t', names=['Protein model', 'SBROD score'])\n",
    "predicted_scores['Protein model'] = predicted_scores['Protein model'].apply(lambda x: x.split('/')[1])\n",
    "df = predicted_scores.iloc[:40]\n",
    "df.plot(kind='bar', figsize=(10, 5), x='Protein model', ax=ax)\n",
    "plt.grid()\n",
    "plt.ylim([df['SBROD score'].min() - df['SBROD score'].std(),\n",
    "          df['SBROD score'].max() + df['SBROD score'].std()])\n",
    "plt.show()"
   ]
  },
  {
   "cell_type": "markdown",
   "metadata": {},
   "source": [
    "Let's compare the predicted scores with the ground-truth GDT-TS, a distance between predicted protein models and their corresponding native protein structures."
   ]
  },
  {
   "cell_type": "code",
   "execution_count": 8,
   "metadata": {
    "ExecuteTime": {
     "end_time": "2017-08-15T00:13:06.966311Z",
     "start_time": "2017-08-15T00:13:05.256024Z"
    },
    "run_control": {
     "frozen": false,
     "read_only": false
    }
   },
   "outputs": [],
   "source": [
    "ground_truth = pd.read_table(\n",
    "    'http://predictioncenter.org/download_area/CASP12/results_LGA_sda/{}.SUMMARY.lga_sda.txt'.format(decoy_set),\n",
    "    delim_whitespace=True\n",
    ")\n",
    "ground_truth.NAME = ground_truth.NAME.apply(lambda x: x.split('.')[0])"
   ]
  },
  {
   "cell_type": "code",
   "execution_count": 9,
   "metadata": {
    "ExecuteTime": {
     "end_time": "2017-08-15T00:13:11.798241Z",
     "start_time": "2017-08-15T00:13:11.783458Z"
    },
    "run_control": {
     "frozen": false,
     "read_only": false
    }
   },
   "outputs": [],
   "source": [
    "df = predicted_scores\n",
    "df = df.merge(ground_truth, left_on='Protein model', right_on='NAME')"
   ]
  },
  {
   "cell_type": "code",
   "execution_count": 10,
   "metadata": {
    "ExecuteTime": {
     "end_time": "2017-08-15T00:13:15.641978Z",
     "start_time": "2017-08-15T00:13:15.355904Z"
    },
    "run_control": {
     "frozen": false,
     "read_only": false
    }
   },
   "outputs": [
    {
     "data": {
      "image/png": "[encoded data removed]",
      "text/plain": [
       "<Figure size 360x360 with 1 Axes>"
      ]
     },
     "metadata": {},
     "output_type": "display_data"
    }
   ],
   "source": [
    "plt.figure(figsize=(5, 5))\n",
    "plt.scatter(df['GDT_TS'], df['SBROD score'])\n",
    "plt.xlabel('GDT-TS')\n",
    "plt.ylabel('SBROD score')\n",
    "plt.grid()\n",
    "plt.show()"
   ]
  },
  {
   "cell_type": "markdown",
   "metadata": {},
   "source": [
    "One can notice, that quality of `SBROD` scores is suspiciously high in this figure.\n",
    "\n",
    "Indeed, the default predictive model included in `SBROD` was trained on a dataset including the `CASP12` data.\n",
    "\n",
    "For a more fare evaluation, below we change the predictive model to one that was trained without `CASP12` data."
   ]
  },
  {
   "cell_type": "markdown",
   "metadata": {},
   "source": [
    "#### Load different predictive models"
   ]
  },
  {
   "cell_type": "markdown",
   "metadata": {},
   "source": [
    "Here we are going to change the predictive model used in `SBROD`.\n",
    "\n",
    "We replace the default predictive model `base/pipeline.pkl` with a pipeline trained on the `CASP[5-11]` dataset with decoy protein models generated with the `NMA` technique."
   ]
  },
  {
   "cell_type": "code",
   "execution_count": 11,
   "metadata": {
    "scrolled": true
   },
   "outputs": [
    {
     "name": "stdout",
     "output_type": "stream",
     "text": [
      "  % Total    % Received % Xferd  Average Speed   Time    Time     Time  Current\n",
      "                                 Dload  Upload   Total   Spent    Left  Speed\n",
      "100   383    0   383    0     0     54      0 --:--:--  0:00:06 --:--:--    80\n",
      "100 35.2M    0 35.2M    0     0  2753k      0 --:--:--  0:00:13 --:--:-- 6425k\n",
      "curl: Saved to filename 'pipeline.pkl'\n"
     ]
    }
   ],
   "source": [
    "# download the pipeline\n",
    "!../gdrive_download.sh \"https://drive.google.com/open?id=0B3zcrZZIqs3fNU5pMXYxSHVjRVE\""
   ]
  },
  {
   "cell_type": "markdown",
   "metadata": {},
   "source": [
    "Replace the predictive model in `./base` directory"
   ]
  },
  {
   "cell_type": "code",
   "execution_count": 12,
   "metadata": {},
   "outputs": [],
   "source": [
    "!mv pipeline.pkl base"
   ]
  },
  {
   "cell_type": "markdown",
   "metadata": {},
   "source": [
    "Now, let's score the protein models again."
   ]
  },
  {
   "cell_type": "code",
   "execution_count": 13,
   "metadata": {},
   "outputs": [
    {
     "name": "stdout",
     "output_type": "stream",
     "text": [
      "T0866-D1/T0866TS001_1-D1\t1.2939483439269082\r\n",
      "T0866-D1/T0866TS001_2-D1\t1.3945409625703136\r\n",
      "T0866-D1/T0866TS001_3-D1\t1.4492892708866845\r\n",
      "T0866-D1/T0866TS001_4-D1\t1.380506897337007\r\n",
      "T0866-D1/T0866TS001_5-D1\t1.507876519245482\r\n",
      "T0866-D1/T0866TS004_1-D1\t1.434141122939799\r\n",
      "T0866-D1/T0866TS004_2-D1\t1.477021038595789\r\n",
      "T0866-D1/T0866TS004_3-D1\t1.4468173198572796\r\n",
      "T0866-D1/T0866TS004_4-D1\t1.503146397713076\r\n",
      "T0866-D1/T0866TS004_5-D1\t1.475760810856152\r\n"
     ]
    }
   ],
   "source": [
    "!./sbrod T0866-D1/* > scores.txt\n",
    "!head -10 scores.txt"
   ]
  },
  {
   "cell_type": "code",
   "execution_count": 14,
   "metadata": {},
   "outputs": [],
   "source": [
    "predicted_scores = pd.read_csv('scores.txt', sep='\\t', names=['Protein model', 'SBROD score'])\n",
    "predicted_scores['Protein model'] = predicted_scores['Protein model'].apply(lambda x: x.split('/')[1])\n",
    "df = predicted_scores.merge(ground_truth, left_on='Protein model', right_on='NAME')"
   ]
  },
  {
   "cell_type": "code",
   "execution_count": 15,
   "metadata": {},
   "outputs": [
    {
     "data": {
      "image/png": "[encoded data removed]",
      "text/plain": [
       "<Figure size 360x360 with 1 Axes>"
      ]
     },
     "metadata": {},
     "output_type": "display_data"
    }
   ],
   "source": [
    "plt.figure(figsize=(5, 5))\n",
    "plt.scatter(df['GDT_TS'], df['SBROD score'])\n",
    "plt.xlabel('GDT-TS')\n",
    "plt.ylabel('SBROD score')\n",
    "plt.grid()\n",
    "plt.show()"
   ]
  },
  {
   "cell_type": "markdown",
   "metadata": {
    "run_control": {
     "frozen": false,
     "read_only": false
    }
   },
   "source": [
    "### Interactive web server"
   ]
  },
  {
   "cell_type": "markdown",
   "metadata": {
    "run_control": {
     "frozen": false,
     "read_only": false
    }
   },
   "source": [
    "We can also score protein models using web server http://www.karasikov.com/proteins, which is very intuitive and self-explanatory."
   ]
  },
  {
   "cell_type": "markdown",
   "metadata": {
    "run_control": {
     "frozen": false,
     "read_only": false
    }
   },
   "source": [
    "## Train a custom predictive model"
   ]
  },
  {
   "cell_type": "markdown",
   "metadata": {
    "run_control": {
     "frozen": false,
     "read_only": false
    }
   },
   "source": [
    "Here we show how to train a custom predictive model on different data.\n",
    "\n",
    "A typical framework for training a new predictive models looks as follows:\n",
    "1. Get training data\n",
    "2. Extract features from the training data (kind of data preprocessing)\n",
    "3. Train a new predictive model `pipeline.pkl`\n",
    "4. Replace the default predictive model `pipeline.pkl` with the trained one"
   ]
  },
  {
   "cell_type": "markdown",
   "metadata": {
    "run_control": {
     "frozen": false,
     "read_only": false
    }
   },
   "source": [
    "For the sake of simplicity, we are going to train a new predictive model on the same `T0866-D1` dataset, which we have downloaded above."
   ]
  },
  {
   "cell_type": "markdown",
   "metadata": {
    "run_control": {
     "frozen": false,
     "read_only": false
    }
   },
   "source": [
    "### Prepare a training set and the feature extractor"
   ]
  },
  {
   "cell_type": "markdown",
   "metadata": {},
   "source": [
    "`SBROD` calls program `Rotamers` for feature extraction.\n",
    "\n",
    "The program `Rotamers` was written in `C++` for high efficiency and used for modeling spacial protein structures and various other tasks. Its standalone binary executables are provided with `SBROD`."
   ]
  },
  {
   "cell_type": "code",
   "execution_count": 16,
   "metadata": {
    "ExecuteTime": {
     "end_time": "2017-08-13T19:33:04.313491Z",
     "start_time": "2017-08-13T19:33:04.298389Z"
    },
    "run_control": {
     "frozen": false,
     "read_only": false
    },
    "scrolled": true
   },
   "outputs": [
    {
     "name": "stdout",
     "output_type": "stream",
     "text": [
      "/Users/mike/sbrod/tutorial\n",
      "/Users/mike/sbrod/tutorial/training\n"
     ]
    }
   ],
   "source": [
    "%cd ..\n",
    "!mkdir -p training\n",
    "%cd training"
   ]
  },
  {
   "cell_type": "code",
   "execution_count": 17,
   "metadata": {
    "ExecuteTime": {
     "end_time": "2017-08-13T19:40:23.858490Z",
     "start_time": "2017-08-13T19:40:23.733409Z"
    },
    "run_control": {
     "frozen": false,
     "read_only": false
    }
   },
   "outputs": [],
   "source": [
    "!cp ../data/base/Rotamers ../../protein_scoring/scripts/"
   ]
  },
  {
   "cell_type": "markdown",
   "metadata": {},
   "source": [
    "Copy the training set."
   ]
  },
  {
   "cell_type": "code",
   "execution_count": 18,
   "metadata": {
    "ExecuteTime": {
     "end_time": "2017-08-13T19:37:29.409472Z",
     "start_time": "2017-08-13T19:37:29.139356Z"
    },
    "run_control": {
     "frozen": false,
     "read_only": false
    }
   },
   "outputs": [],
   "source": [
    "!mkdir training_set\n",
    "!cp -r ../data/T0866-D1 ./training_set"
   ]
  },
  {
   "cell_type": "markdown",
   "metadata": {},
   "source": [
    "We also have to provide ground-truth scores along with the training set."
   ]
  },
  {
   "cell_type": "code",
   "execution_count": 19,
   "metadata": {
    "ExecuteTime": {
     "end_time": "2017-08-13T19:59:57.120365Z",
     "start_time": "2017-08-13T19:59:55.589282Z"
    },
    "run_control": {
     "frozen": false,
     "read_only": false
    }
   },
   "outputs": [],
   "source": [
    "ground_truth = pd.read_table(\n",
    "    'http://predictioncenter.org/download_area/CASP12/results_LGA_sda/T0866-D1.SUMMARY.lga_sda.txt',\n",
    "    delim_whitespace=True\n",
    ")\n",
    "ground_truth.NAME = ground_truth.NAME.apply(lambda x: x.split('.')[0])"
   ]
  },
  {
   "cell_type": "code",
   "execution_count": 20,
   "metadata": {
    "ExecuteTime": {
     "end_time": "2017-08-13T20:01:25.544141Z",
     "start_time": "2017-08-13T20:01:25.525014Z"
    },
    "run_control": {
     "frozen": false,
     "read_only": false
    }
   },
   "outputs": [],
   "source": [
    "ground_truth.rename(columns={'GDT_TS': 'GDT-TS-score'}).to_csv('./training_set/T0866-D1/scores.txt', sep='\\t')"
   ]
  },
  {
   "cell_type": "code",
   "execution_count": 21,
   "metadata": {},
   "outputs": [
    {
     "name": "stdout",
     "output_type": "stream",
     "text": [
      "\u001b[36mT0866-D1\u001b[m\u001b[m\r\n"
     ]
    }
   ],
   "source": [
    "!ls training_set"
   ]
  },
  {
   "cell_type": "code",
   "execution_count": 22,
   "metadata": {},
   "outputs": [
    {
     "name": "stdout",
     "output_type": "stream",
     "text": [
      "T0866TS486_3-D1\r\n",
      "T0866TS486_4-D1\r\n",
      "T0866TS486_5-D1\r\n",
      "T0866TS489_1-D1\r\n",
      "T0866TS498_1-D1\r\n",
      "T0866TS498_2-D1\r\n",
      "T0866TS498_3-D1\r\n",
      "T0866TS498_4-D1\r\n",
      "T0866TS498_5-D1\r\n",
      "scores.txt\r\n"
     ]
    }
   ],
   "source": [
    "!ls training_set/T0866-D1/ | tail"
   ]
  },
  {
   "cell_type": "markdown",
   "metadata": {
    "run_control": {
     "frozen": false,
     "read_only": false
    }
   },
   "source": [
    "### Extract features"
   ]
  },
  {
   "cell_type": "markdown",
   "metadata": {},
   "source": [
    "Use script `generate_dataset.sh` for feature extraction with the default parameters."
   ]
  },
  {
   "cell_type": "code",
   "execution_count": 23,
   "metadata": {
    "ExecuteTime": {
     "end_time": "2017-08-13T20:01:53.281383Z",
     "start_time": "2017-08-13T20:01:31.387176Z"
    },
    "run_control": {
     "frozen": false,
     "read_only": false
    },
    "scrolled": false
   },
   "outputs": [],
   "source": [
    "!../../protein_scoring/scripts/generate_dataset.sh 4 ./training_set > /dev/null"
   ]
  },
  {
   "cell_type": "code",
   "execution_count": 24,
   "metadata": {
    "ExecuteTime": {
     "end_time": "2017-08-13T20:01:53.417470Z",
     "start_time": "2017-08-13T20:01:53.283691Z"
    },
    "run_control": {
     "frozen": false,
     "read_only": false
    }
   },
   "outputs": [
    {
     "name": "stdout",
     "output_type": "stream",
     "text": [
      "total 16168\r\n",
      "-rw-r--r--  1 mike  staff    64K May 19 20:29 *backboneatom-b25-c7-n0--residue_type_dependent--skip_errors.mat25cb53489019212e1beb4c01fdec88f5.csv\r\n",
      "-rw-r--r--  1 mike  staff   4.5M May 19 20:29 *backboneatom-b25-c7-n0--residue_type_dependent--skip_errors.mat25cb53489019212e1beb4c01fdec88f5.npz\r\n",
      "-rw-r--r--  1 mike  staff    64K May 19 20:28 *hbonds-b6-a6-c6-n2--skip_errors.mat25cb53489019212e1beb4c01fdec88f5.csv\r\n",
      "-rw-r--r--  1 mike  staff    33K May 19 20:28 *hbonds-b6-a6-c6-n2--skip_errors.mat25cb53489019212e1beb4c01fdec88f5.npz\r\n",
      "-rw-r--r--  1 mike  staff    64K May 19 20:28 *residues-d4-b10-a12-c5-n0--skip_errors.mat25cb53489019212e1beb4c01fdec88f5.csv\r\n",
      "-rw-r--r--  1 mike  staff   1.8M May 19 20:28 *residues-d4-b10-a12-c5-n0--skip_errors.mat25cb53489019212e1beb4c01fdec88f5.npz\r\n",
      "-rw-r--r--  1 mike  staff    64K May 19 20:29 *solvation-b3-a2-c15--skip_errors.mat25cb53489019212e1beb4c01fdec88f5.csv\r\n",
      "-rw-r--r--  1 mike  staff   279K May 19 20:29 *solvation-b3-a2-c15--skip_errors.mat25cb53489019212e1beb4c01fdec88f5.npz\r\n"
     ]
    }
   ],
   "source": [
    "!ls -lh binaries"
   ]
  },
  {
   "cell_type": "markdown",
   "metadata": {
    "run_control": {
     "frozen": false,
     "read_only": false
    }
   },
   "source": [
    "### Train predictive model"
   ]
  },
  {
   "cell_type": "code",
   "execution_count": 25,
   "metadata": {
    "ExecuteTime": {
     "end_time": "2017-08-13T20:01:53.434929Z",
     "start_time": "2017-08-13T20:01:53.419018Z"
    },
    "run_control": {
     "frozen": false,
     "read_only": false
    }
   },
   "outputs": [],
   "source": [
    "import joblib\n",
    "from sklearn.preprocessing import Normalizer, MaxAbsScaler\n",
    "import sys, os\n",
    "sys.path.append(os.path.abspath('../../protein_scoring'))\n",
    "from data_mining import *"
   ]
  },
  {
   "cell_type": "markdown",
   "metadata": {},
   "source": [
    "First, load the extracted features"
   ]
  },
  {
   "cell_type": "code",
   "execution_count": 26,
   "metadata": {
    "ExecuteTime": {
     "end_time": "2017-08-13T20:01:53.455024Z",
     "start_time": "2017-08-13T20:01:53.436231Z"
    },
    "run_control": {
     "frozen": false,
     "read_only": false
    }
   },
   "outputs": [],
   "source": [
    "residues_normalizer = Normalizer()\n",
    "hbonds_normalizer = MaxAbsScaler()\n",
    "solvation_normalizer = MaxAbsScaler()\n",
    "backboneatom_normalizer = Normalizer()\n",
    "\n",
    "CASP = [\n",
    "    ('*residues-d4-b10-a12-c5-n0--skip_errors.mat',\n",
    "     '25cb53489019212e1beb4c01fdec88f5',\n",
    "     lambda X: residues_normalizer.fit_transform(X),\n",
    "     lambda X: residues_normalizer.transform(X)),\n",
    "    ('*hbonds-b6-a6-c6-n2--skip_errors.mat',\n",
    "     '25cb53489019212e1beb4c01fdec88f5',\n",
    "     lambda X: hbonds_normalizer.fit_transform(X),\n",
    "     lambda X: hbonds_normalizer.transform(X)),\n",
    "    ('*solvation-b3-a2-c15--skip_errors.mat',\n",
    "     '25cb53489019212e1beb4c01fdec88f5',\n",
    "     lambda X: solvation_normalizer.fit_transform(X),\n",
    "     lambda X: solvation_normalizer.transform(X)),\n",
    "    ('*backboneatom-b25-c7-n0--residue_type_dependent--skip_errors.mat',\n",
    "     '25cb53489019212e1beb4c01fdec88f5',\n",
    "     lambda X: backboneatom_normalizer.fit_transform(X),\n",
    "     lambda X: backboneatom_normalizer.transform(X)),\n",
    "]"
   ]
  },
  {
   "cell_type": "code",
   "execution_count": 27,
   "metadata": {
    "ExecuteTime": {
     "end_time": "2017-08-13T20:01:54.221512Z",
     "start_time": "2017-08-13T20:01:53.456434Z"
    },
    "run_control": {
     "frozen": false,
     "read_only": false
    }
   },
   "outputs": [
    {
     "name": "stdout",
     "output_type": "stream",
     "text": [
      "Shape of the first dataset:  (504, 4371840)\n",
      "Shape of the second dataset: (504, 216)\n",
      "Shape of the final dataset:  (504, 4372056)\n",
      "Shape of the first dataset:  (504, 4372056)\n",
      "Shape of the second dataset: (504, 138)\n",
      "Shape of the final dataset:  (504, 4372194)\n",
      "Shape of the first dataset:  (504, 4372194)\n",
      "Shape of the second dataset: (504, 239775)\n",
      "Shape of the final dataset:  (504, 4611969)\n"
     ]
    }
   ],
   "source": [
    "X, scores = get_dataset([(pattern, checksum, fit_transform)\n",
    "                         for (pattern, checksum, fit_transform, transform) in CASP],\n",
    "                        '.*')"
   ]
  },
  {
   "cell_type": "code",
   "execution_count": 28,
   "metadata": {
    "ExecuteTime": {
     "end_time": "2017-08-13T20:01:54.237620Z",
     "start_time": "2017-08-13T20:01:54.222858Z"
    },
    "run_control": {
     "frozen": false,
     "read_only": false
    }
   },
   "outputs": [
    {
     "data": {
      "text/plain": [
       "(504, 4611969)"
      ]
     },
     "execution_count": 28,
     "metadata": {},
     "output_type": "execute_result"
    }
   ],
   "source": [
    "X.shape"
   ]
  },
  {
   "cell_type": "markdown",
   "metadata": {
    "ExecuteTime": {
     "end_time": "2017-08-13T19:56:46.880704Z",
     "start_time": "2017-08-13T19:56:46.864077Z"
    },
    "run_control": {
     "frozen": false,
     "read_only": false
    }
   },
   "source": [
    "Now we have 504 protein models, from which we extracted per 4,611,969 sparse features to train on."
   ]
  },
  {
   "cell_type": "code",
   "execution_count": 29,
   "metadata": {
    "ExecuteTime": {
     "end_time": "2017-08-13T20:01:54.813017Z",
     "start_time": "2017-08-13T20:01:54.238759Z"
    },
    "run_control": {
     "frozen": false,
     "read_only": false
    }
   },
   "outputs": [
    {
     "name": "stdout",
     "output_type": "stream",
     "text": [
      "CPU times: user 663 ms, sys: 180 ms, total: 842 ms\n",
      "Wall time: 675 ms\n"
     ]
    }
   ],
   "source": [
    "%%time\n",
    "\n",
    "model = RRModel(normalize=False, fit_intercept=False, solver='sparse_cg', alpha=5)\n",
    "\n",
    "model.fit(X, scores)"
   ]
  },
  {
   "cell_type": "code",
   "execution_count": 30,
   "metadata": {
    "ExecuteTime": {
     "end_time": "2017-08-13T20:03:31.979929Z",
     "start_time": "2017-08-13T20:03:31.922913Z"
    },
    "run_control": {
     "frozen": false,
     "read_only": false
    }
   },
   "outputs": [
    {
     "data": {
      "text/plain": [
       "['pipeline.pkl']"
      ]
     },
     "execution_count": 30,
     "metadata": {},
     "output_type": "execute_result"
    }
   ],
   "source": [
    "joblib.dump(\n",
    "    Pipeline([('scaler', CombinedScaler([residues_normalizer, hbonds_normalizer,\n",
    "                                         solvation_normalizer, backboneatom_normalizer])),\n",
    "              ('scorer', model)]),\n",
    "    'pipeline.pkl', protocol=2\n",
    ")"
   ]
  },
  {
   "cell_type": "markdown",
   "metadata": {
    "run_control": {
     "frozen": false,
     "read_only": false
    }
   },
   "source": [
    "### Change trained model"
   ]
  },
  {
   "cell_type": "code",
   "execution_count": 31,
   "metadata": {
    "ExecuteTime": {
     "end_time": "2017-08-13T20:03:33.604303Z",
     "start_time": "2017-08-13T20:03:33.471680Z"
    },
    "run_control": {
     "frozen": false,
     "read_only": false
    }
   },
   "outputs": [
    {
     "name": "stdout",
     "output_type": "stream",
     "text": [
      "/Users/mike/sbrod/tutorial/data\n"
     ]
    }
   ],
   "source": [
    "!mv pipeline.pkl ../data/base\n",
    "%cd ../data"
   ]
  },
  {
   "cell_type": "code",
   "execution_count": 32,
   "metadata": {
    "ExecuteTime": {
     "end_time": "2017-08-13T20:03:53.273762Z",
     "start_time": "2017-08-13T20:03:53.143764Z"
    },
    "run_control": {
     "frozen": false,
     "read_only": false
    }
   },
   "outputs": [
    {
     "name": "stdout",
     "output_type": "stream",
     "text": [
      "total 73408\r\n",
      "-rwxr-xr-x  1 mike  staff   661K Mar  9  2017 \u001b[35mRotamers\u001b[m\u001b[m*\r\n",
      "-rw-r--r--  1 mike  staff    35M May 19 20:29 pipeline.pkl\r\n"
     ]
    }
   ],
   "source": [
    "ls -lh base/"
   ]
  },
  {
   "cell_type": "markdown",
   "metadata": {
    "run_control": {
     "frozen": false,
     "read_only": false
    }
   },
   "source": [
    "### Test"
   ]
  },
  {
   "cell_type": "markdown",
   "metadata": {
    "run_control": {
     "frozen": false,
     "read_only": false
    }
   },
   "source": [
    "Let's check if the performance now is perfect on the training set."
   ]
  },
  {
   "cell_type": "code",
   "execution_count": 33,
   "metadata": {
    "ExecuteTime": {
     "end_time": "2017-08-13T20:08:22.381716Z",
     "start_time": "2017-08-13T20:06:38.785591Z"
    },
    "run_control": {
     "frozen": false,
     "read_only": false
    }
   },
   "outputs": [],
   "source": [
    "!./sbrod ../training/training_set/*/*[!txt] > scores_retrained.txt"
   ]
  },
  {
   "cell_type": "code",
   "execution_count": 34,
   "metadata": {
    "ExecuteTime": {
     "end_time": "2017-08-13T20:08:36.746574Z",
     "start_time": "2017-08-13T20:08:36.729532Z"
    },
    "run_control": {
     "frozen": false,
     "read_only": false
    }
   },
   "outputs": [],
   "source": [
    "predicted_scores = pd.read_csv('scores_retrained.txt', sep='\\t', names=['Protein model', 'SBROD score'])\n",
    "predicted_scores['Protein model'] = predicted_scores['Protein model'].apply(lambda x: x.split('/')[-1])"
   ]
  },
  {
   "cell_type": "code",
   "execution_count": 35,
   "metadata": {
    "ExecuteTime": {
     "end_time": "2017-08-13T20:08:38.613368Z",
     "start_time": "2017-08-13T20:08:37.299797Z"
    },
    "run_control": {
     "frozen": false,
     "read_only": false
    }
   },
   "outputs": [],
   "source": [
    "ground_truth = pd.read_table(\n",
    "    'http://predictioncenter.org/download_area/CASP12/results_LGA_sda/{}.SUMMARY.lga_sda.txt'.format(decoy_set),\n",
    "    delim_whitespace=True\n",
    ")\n",
    "ground_truth.NAME = ground_truth.NAME.apply(lambda x: x.split('.')[0])"
   ]
  },
  {
   "cell_type": "code",
   "execution_count": 36,
   "metadata": {
    "ExecuteTime": {
     "end_time": "2017-08-13T20:08:39.493112Z",
     "start_time": "2017-08-13T20:08:39.476657Z"
    },
    "run_control": {
     "frozen": false,
     "read_only": false
    }
   },
   "outputs": [],
   "source": [
    "df = predicted_scores\n",
    "df = df.merge(ground_truth, left_on='Protein model', right_on='NAME')"
   ]
  },
  {
   "cell_type": "code",
   "execution_count": 37,
   "metadata": {
    "ExecuteTime": {
     "end_time": "2017-08-13T20:08:40.751273Z",
     "start_time": "2017-08-13T20:08:40.456026Z"
    },
    "run_control": {
     "frozen": false,
     "read_only": false
    }
   },
   "outputs": [
    {
     "data": {
      "image/png": "[encoded data removed]",
      "text/plain": [
       "<Figure size 360x360 with 1 Axes>"
      ]
     },
     "metadata": {},
     "output_type": "display_data"
    }
   ],
   "source": [
    "plt.figure(figsize=(5, 5))\n",
    "plt.scatter(df['GDT_TS'], df['SBROD score'])\n",
    "plt.xlabel('GDT-TS')\n",
    "plt.ylabel('SBROD score')\n",
    "plt.grid()\n",
    "plt.show()"
   ]
  },
  {
   "cell_type": "markdown",
   "metadata": {
    "run_control": {
     "frozen": false,
     "read_only": false
    }
   },
   "source": [
    "The correlation of the SBROD scores with ground-truth is almost perfect, but these are results from testing on the same dataset that was used for training."
   ]
  },
  {
   "cell_type": "markdown",
   "metadata": {
    "run_control": {
     "frozen": false,
     "read_only": false
    }
   },
   "source": [
    "## Augment training data with NMA"
   ]
  },
  {
   "cell_type": "markdown",
   "metadata": {
    "ExecuteTime": {
     "end_time": "2017-08-13T20:28:53.787357Z",
     "start_time": "2017-08-13T20:28:53.766644Z"
    },
    "run_control": {
     "frozen": false,
     "read_only": false
    }
   },
   "source": [
    "Here show how one can enlarge a training dataset using the [NOLB tool](https://team.inria.fr/nano-d/software/nolb-normal-modes/) (c) Alexandre Hoffmann & Sergei Grudinin."
   ]
  },
  {
   "cell_type": "markdown",
   "metadata": {
    "ExecuteTime": {
     "end_time": "2017-08-13T20:26:31.405456Z",
     "start_time": "2017-08-13T20:26:31.387288Z"
    },
    "run_control": {
     "frozen": false,
     "read_only": false
    }
   },
   "source": [
    "First, let's download the `NOLB` tool."
   ]
  },
  {
   "cell_type": "code",
   "execution_count": 38,
   "metadata": {
    "ExecuteTime": {
     "end_time": "2017-08-13T20:50:25.349583Z",
     "start_time": "2017-08-13T20:50:23.317047Z"
    },
    "run_control": {
     "frozen": false,
     "read_only": false
    }
   },
   "outputs": [
    {
     "name": "stdout",
     "output_type": "stream",
     "text": [
      "--2018-05-19 20:32:48--  https://files.inria.fr/NanoDFiles/Website/Software/NOLB/MacOS/NOLB\n",
      "Resolving files.inria.fr (files.inria.fr)... 128.93.162.87\n",
      "Connecting to files.inria.fr (files.inria.fr)|128.93.162.87|:443... connected.\n",
      "WARNING: cannot verify files.inria.fr's certificate, issued by ‘CN=TERENA SSL CA 3,O=TERENA,L=Amsterdam,ST=Noord-Holland,C=NL’:\n",
      "  Unable to locally verify the issuer's authority.\n",
      "HTTP request sent, awaiting response... 200 OK\n",
      "Length: 1538352 (1.5M) [text/plain]\n",
      "Saving to: ‘NOLB’\n",
      "\n",
      "NOLB                100%[===================>]   1.47M  5.76MB/s    in 0.3s    \n",
      "\n",
      "2018-05-19 20:32:49 (5.76 MB/s) - ‘NOLB’ saved [1538352/1538352]\n",
      "\n"
     ]
    }
   ],
   "source": [
    "#!wget --no-check-certificate https://files.inria.fr/NanoDFiles/Website/Software/NOLB/Linux/NOLB\n",
    "!wget --no-check-certificate https://files.inria.fr/NanoDFiles/Website/Software/NOLB/MacOS/NOLB"
   ]
  },
  {
   "cell_type": "code",
   "execution_count": 39,
   "metadata": {
    "ExecuteTime": {
     "end_time": "2017-08-13T20:50:39.048396Z",
     "start_time": "2017-08-13T20:50:38.761849Z"
    },
    "run_control": {
     "frozen": false,
     "read_only": false
    }
   },
   "outputs": [],
   "source": [
    "!chmod 755 NOLB"
   ]
  },
  {
   "cell_type": "markdown",
   "metadata": {
    "run_control": {
     "frozen": false,
     "read_only": false
    }
   },
   "source": [
    "Then, let's download the CASP11 target structures"
   ]
  },
  {
   "cell_type": "code",
   "execution_count": 40,
   "metadata": {
    "ExecuteTime": {
     "end_time": "2017-08-13T20:30:29.345001Z",
     "start_time": "2017-08-13T20:30:25.378093Z"
    },
    "run_control": {
     "frozen": false,
     "read_only": false
    }
   },
   "outputs": [
    {
     "name": "stdout",
     "output_type": "stream",
     "text": [
      "--2018-05-19 20:32:49--  http://predictioncenter.org/download_area/CASP11/targets/casp11.targets_unsplitted.release11242014.tgz\n",
      "Resolving predictioncenter.org (predictioncenter.org)... 128.120.136.187\n",
      "Connecting to predictioncenter.org (predictioncenter.org)|128.120.136.187|:80... connected.\n",
      "HTTP request sent, awaiting response... 200 OK\n",
      "Length: 3488965 (3.3M) [application/x-tar]\n",
      "Saving to: ‘casp11.targets_unsplitted.release11242014.tgz’\n",
      "\n",
      "casp11.targets_unsp 100%[===================>]   3.33M  1.17MB/s    in 2.9s    \n",
      "\n",
      "2018-05-19 20:32:52 (1.17 MB/s) - ‘casp11.targets_unsplitted.release11242014.tgz’ saved [3488965/3488965]\n",
      "\n"
     ]
    }
   ],
   "source": [
    "!wget http://predictioncenter.org/download_area/CASP11/targets/casp11.targets_unsplitted.release11242014.tgz"
   ]
  },
  {
   "cell_type": "code",
   "execution_count": 41,
   "metadata": {
    "ExecuteTime": {
     "end_time": "2017-08-13T20:32:48.715505Z",
     "start_time": "2017-08-13T20:32:48.502316Z"
    },
    "run_control": {
     "frozen": false,
     "read_only": false
    }
   },
   "outputs": [],
   "source": [
    "!mkdir -p casp11_targets && tar -xf casp11.targets_unsplitted.release11242014.tgz -C casp11_targets"
   ]
  },
  {
   "cell_type": "code",
   "execution_count": 42,
   "metadata": {
    "ExecuteTime": {
     "end_time": "2017-08-13T20:32:57.619192Z",
     "start_time": "2017-08-13T20:32:57.490700Z"
    },
    "run_control": {
     "frozen": false,
     "read_only": false
    }
   },
   "outputs": [
    {
     "name": "stdout",
     "output_type": "stream",
     "text": [
      "T0759.pdb T0770.pdb T0783.pdb T0796.pdb T0811.pdb T0822.pdb T0835.pdb T0851.pdb\r\n",
      "T0760.pdb T0771.pdb T0784.pdb T0797.pdb T0812.pdb T0823.pdb T0836.pdb T0852.pdb\r\n",
      "T0761.pdb T0772.pdb T0785.pdb T0798.pdb T0813.pdb T0824.pdb T0837.pdb T0853.pdb\r\n",
      "T0762.pdb T0773.pdb T0786.pdb T0800.pdb T0814.pdb T0825.pdb T0838.pdb T0854.pdb\r\n",
      "T0763.pdb T0774.pdb T0787.pdb T0801.pdb T0815.pdb T0827.pdb T0840.pdb T0855.pdb\r\n",
      "T0764.pdb T0776.pdb T0788.pdb T0803.pdb T0816.pdb T0829.pdb T0841.pdb T0856.pdb\r\n",
      "T0765.pdb T0777.pdb T0789.pdb T0805.pdb T0817.pdb T0830.pdb T0843.pdb T0857.pdb\r\n",
      "T0766.pdb T0778.pdb T0790.pdb T0806.pdb T0818.pdb T0831.pdb T0845.pdb T0858.pdb\r\n",
      "T0767.pdb T0780.pdb T0791.pdb T0807.pdb T0819.pdb T0832.pdb T0847.pdb\r\n",
      "T0768.pdb T0781.pdb T0792.pdb T0808.pdb T0820.pdb T0833.pdb T0848.pdb\r\n",
      "T0769.pdb T0782.pdb T0794.pdb T0810.pdb T0821.pdb T0834.pdb T0849.pdb\r\n"
     ]
    }
   ],
   "source": [
    "!ls casp11_targets/"
   ]
  },
  {
   "cell_type": "markdown",
   "metadata": {
    "run_control": {
     "frozen": false,
     "read_only": false
    }
   },
   "source": [
    "Now, generate decoy models for each target structure."
   ]
  },
  {
   "cell_type": "code",
   "execution_count": 43,
   "metadata": {
    "ExecuteTime": {
     "end_time": "2017-08-13T20:33:28.235041Z",
     "start_time": "2017-08-13T20:33:28.101390Z"
    },
    "run_control": {
     "frozen": false,
     "read_only": false
    }
   },
   "outputs": [
    {
     "name": "stdout",
     "output_type": "stream",
     "text": [
      "#!/bin/bash\r\n",
      "# \r\n",
      "# Generate protein decoy structures using the NMA approach\r\n",
      "#\r\n",
      "# Dependency: NOLB\r\n",
      "#   Download standalone executable from\r\n",
      "#   https://team.inria.fr/nano-d/software/nolb-normal-modes/\r\n",
      "#\r\n",
      "# Usage:\r\n",
      "#   ./generate_decoys.sh <native_structure_pattern> <output_dir>\r\n",
      "#\r\n",
      "# Example:\r\n",
      "#   ./generate_decoys.sh \"../CASP/data/CASP12/*/T0*\\.pdb\" ./CASP12\r\n",
      "\r\n",
      "\r\n",
      "native_structures=$1\r\n",
      "output_dir=$2\r\n",
      "\r\n",
      "\r\n",
      "if [ $# -ne 2 ]\r\n",
      "then\r\n",
      "  echo \"Usage: $0 <native_structure_pattern> <output_dir>\"\r\n",
      "  exit 1\r\n",
      "fi\r\n",
      "\r\n",
      "\r\n",
      "mkdir -p $output_dir\r\n",
      "\r\n",
      "\r\n",
      "natives=$(ls $native_structures)\r\n",
      "echo \"Number of native structures:\"\r\n",
      "echo $(echo $natives | wc -w)\r\n",
      "\r\n",
      "\r\n",
      "for file in $natives\r\n",
      "do\r\n",
      "  echo $file\r\n",
      "  structure=$(basename $file)\r\n",
      "  structure=${structure%.*}\r\n",
      "  mkdir -p \"$output_dir/$structure\"\r\n",
      "  cp $file \"$output_dir/$structure/$structure.pdb\"\r\n",
      "\r\n",
      "  for rmsd in `seq 1.0 9.0` \"1.5\" \"2.5\"\r\n",
      "  do\r\n",
      "    cp \"$output_dir/$structure/$structure.pdb\" \"$output_dir/$structure/${structure}_${rmsd}.pdb\"\r\n",
      "\r\n",
      "    ./NOLB \"$output_dir/$structure/${structure}_${rmsd}.pdb\" -r $rmsd -n 100 -m -s 30 >> log.txt\r\n",
      "\r\n",
      "    decoys_pdb=\"$output_dir/$structure/${structure}_${rmsd}_nlb_decoys.pdb\"\r\n",
      "    output_pdb_base=\"$output_dir/$structure/${structure}_${rmsd}_nlb_decoy\"\r\n",
      "\r\n",
      "    grep -n 'MODEL\\|ENDMDL' $decoys_pdb | cut -d: -f 1 | \\\r\n",
      "          awk '{if(NR%2) printf \"sed -n %d,\",$1+1; else printf \"%dp '\"'${decoys_pdb}'\"' > '\"'${output_pdb_base}'\"'_%03d.pdb\\n\", $1-1,NR/2;}' |  bash -sf\r\n",
      "    rm $decoys_pdb\r\n",
      "\r\n",
      "    rm \"$output_dir/$structure/${structure}_${rmsd}.pdb\"\r\n",
      "  done\r\n",
      "done\r\n"
     ]
    }
   ],
   "source": [
    "!cat ../../datasets/NMADecoys/generate_decoys.sh"
   ]
  },
  {
   "cell_type": "code",
   "execution_count": 44,
   "metadata": {
    "ExecuteTime": {
     "end_time": "2017-08-13T21:25:12.602158Z",
     "start_time": "2017-08-13T20:51:47.216076Z"
    },
    "run_control": {
     "frozen": false,
     "read_only": false
    }
   },
   "outputs": [
    {
     "name": "stdout",
     "output_type": "stream",
     "text": [
      "Number of native structures:\n",
      "10\n",
      "casp11_targets/T0760.pdb\n",
      "casp11_targets/T0761.pdb\n",
      "casp11_targets/T0762.pdb\n",
      "casp11_targets/T0763.pdb\n",
      "casp11_targets/T0764.pdb\n",
      "casp11_targets/T0765.pdb\n",
      "casp11_targets/T0766.pdb\n",
      "casp11_targets/T0767.pdb\n",
      "casp11_targets/T0768.pdb\n",
      "casp11_targets/T0769.pdb\n"
     ]
    }
   ],
   "source": [
    "!../../datasets/NMADecoys/generate_decoys.sh \"casp11_targets/T076*\" NMADecoys"
   ]
  },
  {
   "cell_type": "markdown",
   "metadata": {
    "run_control": {
     "frozen": false,
     "read_only": false
    }
   },
   "source": [
    "33 min per 10 x 30 decoy protein structures in single thread"
   ]
  },
  {
   "cell_type": "markdown",
   "metadata": {
    "run_control": {
     "frozen": false,
     "read_only": false
    }
   },
   "source": [
    "We can run this in parallel to make it even faster:"
   ]
  },
  {
   "cell_type": "markdown",
   "metadata": {
    "ExecuteTime": {
     "end_time": "2017-08-13T22:34:10.451957Z",
     "start_time": "2017-08-13T22:12:07.227160Z"
    },
    "collapsed": true,
    "run_control": {
     "frozen": false,
     "read_only": false
    }
   },
   "source": [
    "```\n",
    "for file in casp11_targets/*\n",
    "do\n",
    "    ../../datasets/NMADecoys/generate_decoys.sh \"$file\" NMADecoys > /dev/null &\n",
    "done\n",
    "wait\n",
    "```"
   ]
  },
  {
   "cell_type": "code",
   "execution_count": 45,
   "metadata": {
    "ExecuteTime": {
     "end_time": "2017-08-13T22:34:10.587204Z",
     "start_time": "2017-08-13T22:34:10.453797Z"
    },
    "run_control": {
     "frozen": false,
     "read_only": false
    }
   },
   "outputs": [
    {
     "name": "stdout",
     "output_type": "stream",
     "text": [
      "\u001b[36mT0760\u001b[m\u001b[m \u001b[36mT0761\u001b[m\u001b[m \u001b[36mT0762\u001b[m\u001b[m \u001b[36mT0763\u001b[m\u001b[m \u001b[36mT0764\u001b[m\u001b[m \u001b[36mT0765\u001b[m\u001b[m \u001b[36mT0766\u001b[m\u001b[m \u001b[36mT0767\u001b[m\u001b[m \u001b[36mT0768\u001b[m\u001b[m \u001b[36mT0769\u001b[m\u001b[m\r\n"
     ]
    }
   ],
   "source": [
    "!ls NMADecoys"
   ]
  },
  {
   "cell_type": "code",
   "execution_count": 54,
   "metadata": {
    "ExecuteTime": {
     "end_time": "2017-08-13T22:34:10.718655Z",
     "start_time": "2017-08-13T22:34:10.588787Z"
    },
    "run_control": {
     "frozen": false,
     "read_only": false
    }
   },
   "outputs": [
    {
     "name": "stdout",
     "output_type": "stream",
     "text": [
      "T0760.pdb\n",
      "T0760_1.5_nlb_decoy_001.pdb\n",
      "T0760_1.5_nlb_decoy_002.pdb\n",
      "T0760_1.5_nlb_decoy_003.pdb\n",
      "T0760_1.5_nlb_decoy_004.pdb\n",
      "T0760_1.5_nlb_decoy_005.pdb\n",
      "T0760_1.5_nlb_decoy_006.pdb\n",
      "T0760_1.5_nlb_decoy_007.pdb\n",
      "T0760_1.5_nlb_decoy_008.pdb\n",
      "T0760_1.5_nlb_decoy_009.pdb\n",
      "...\n",
      "T0760_9_nlb_decoy_021.pdb\n",
      "T0760_9_nlb_decoy_022.pdb\n",
      "T0760_9_nlb_decoy_023.pdb\n",
      "T0760_9_nlb_decoy_024.pdb\n",
      "T0760_9_nlb_decoy_025.pdb\n",
      "T0760_9_nlb_decoy_026.pdb\n",
      "T0760_9_nlb_decoy_027.pdb\n",
      "T0760_9_nlb_decoy_028.pdb\n",
      "T0760_9_nlb_decoy_029.pdb\n",
      "T0760_9_nlb_decoy_030.pdb\n"
     ]
    }
   ],
   "source": [
    "!ls NMADecoys/T0760 | head\n",
    "!echo ...\n",
    "!ls NMADecoys/T0760 | tail"
   ]
  }
 ],
 "metadata": {
  "kernelspec": {
   "display_name": "Python 3",
   "language": "python",
   "name": "python3"
  },
  "language_info": {
   "codemirror_mode": {
    "name": "ipython",
    "version": 3
   },
   "file_extension": ".py",
   "mimetype": "text/x-python",
   "name": "python",
   "nbconvert_exporter": "python",
   "pygments_lexer": "ipython3",
   "version": "3.6.5"
  },
  "latex_envs": {
   "LaTeX_envs_menu_present": true,
   "bibliofile": "biblio.bib",
   "cite_by": "apalike",
   "current_citInitial": 1,
   "eqLabelWithNumbers": true,
   "eqNumInitial": 1,
   "hotkeys": {
    "equation": "Ctrl-E",
    "itemize": "Ctrl-I"
   },
   "labels_anchors": false,
   "latex_user_defs": false,
   "report_style_numbering": false,
   "user_envs_cfg": false
  },
  "toc": {
   "base_numbering": 1,
   "nav_menu": {
    "height": "102px",
    "width": "252px"
   },
   "number_sections": true,
   "sideBar": true,
   "skip_h1_title": false,
   "title_cell": "Table of Contents",
   "title_sidebar": "Contents",
   "toc_cell": true,
   "toc_position": {},
   "toc_section_display": "block",
   "toc_window_display": true
  }
 },
 "nbformat": 4,
 "nbformat_minor": 2
}
