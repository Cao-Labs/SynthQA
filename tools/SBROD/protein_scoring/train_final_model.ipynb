{
 "cells": [
  {
   "cell_type": "code",
   "execution_count": 1,
   "metadata": {
    "ExecuteTime": {
     "end_time": "2018-05-12T16:24:55.496573Z",
     "start_time": "2018-05-12T16:24:53.705821Z"
    }
   },
   "outputs": [],
   "source": [
    "import numpy as np\n",
    "import scipy\n",
    "import pandas as pd\n",
    "from matplotlib import pyplot as plt\n",
    "from IPython.display import set_matplotlib_formats\n",
    "set_matplotlib_formats('png', 'pdf')\n",
    "import seaborn\n",
    "import joblib\n",
    "from sklearn.preprocessing import Normalizer, MaxAbsScaler\n",
    "\n",
    "%matplotlib inline\n",
    "%load_ext autoreload\n",
    "%autoreload 2\n",
    "\n",
    "from data_mining import *"
   ]
  },
  {
   "cell_type": "code",
   "execution_count": 2,
   "metadata": {
    "ExecuteTime": {
     "end_time": "2018-05-12T16:24:55.630095Z",
     "start_time": "2018-05-12T16:24:55.498636Z"
    }
   },
   "outputs": [
    {
     "name": "stdout",
     "output_type": "stream",
     "text": [
      "'*backboneatom-b25-c7-n0--residue_type_dependent--skip_errors.mat6ffffc5025bb8a4c3ad76dcd0d823b1e.csv'\r\n",
      "'*backboneatom-b25-c7-n0--residue_type_dependent--skip_errors.mat6ffffc5025bb8a4c3ad76dcd0d823b1e.npz'\r\n",
      "'*backboneatom-b25-c7-n0--residue_type_dependent--skip_errors.mata34560ffd5d69bdce838fbe729b84525.csv'\r\n",
      "'*backboneatom-b25-c7-n0--residue_type_dependent--skip_errors.mata34560ffd5d69bdce838fbe729b84525.npz'\r\n",
      "'*backboneatom-b25-c7-n0--residue_type_dependent--skip_errors.matc7d3ecb2312adf488b7fc9081c0f6bf5.csv'\r\n",
      "'*backboneatom-b25-c7-n0--residue_type_dependent--skip_errors.matc7d3ecb2312adf488b7fc9081c0f6bf5.npz'\r\n",
      "'*hbonds-b6-a6-c6-n2--skip_errors.mat961920c35dbee45086ef2544978c884f.csv'\r\n",
      "'*hbonds-b6-a6-c6-n2--skip_errors.mat961920c35dbee45086ef2544978c884f.npz'\r\n",
      "'*hbonds-b6-a6-c6-n2--skip_errors.mata34560ffd5d69bdce838fbe729b84525.csv'\r\n",
      "'*hbonds-b6-a6-c6-n2--skip_errors.mata34560ffd5d69bdce838fbe729b84525.npz'\r\n",
      "'*hbonds-b6-a6-c6-n2--skip_errors.matc7d3ecb2312adf488b7fc9081c0f6bf5.csv'\r\n",
      "'*hbonds-b6-a6-c6-n2--skip_errors.matc7d3ecb2312adf488b7fc9081c0f6bf5.npz'\r\n",
      "'*residues-d4-b10-a12-c5-n0--skip_errors.mat961920c35dbee45086ef2544978c884f.csv'\r\n",
      "'*residues-d4-b10-a12-c5-n0--skip_errors.mat961920c35dbee45086ef2544978c884f.npz'\r\n",
      "'*residues-d4-b10-a12-c5-n0--skip_errors.mata34560ffd5d69bdce838fbe729b84525.csv'\r\n",
      "'*residues-d4-b10-a12-c5-n0--skip_errors.mata34560ffd5d69bdce838fbe729b84525.npz'\r\n",
      "'*residues-d4-b10-a12-c5-n0--skip_errors.matc7d3ecb2312adf488b7fc9081c0f6bf5.csv'\r\n",
      "'*residues-d4-b10-a12-c5-n0--skip_errors.matc7d3ecb2312adf488b7fc9081c0f6bf5.npz'\r\n",
      "'*solvation-b3-a2-c15--skip_errors.mat961920c35dbee45086ef2544978c884f.csv'\r\n",
      "'*solvation-b3-a2-c15--skip_errors.mat961920c35dbee45086ef2544978c884f.npz'\r\n",
      "'*solvation-b3-a2-c15--skip_errors.mata34560ffd5d69bdce838fbe729b84525.csv'\r\n",
      "'*solvation-b3-a2-c15--skip_errors.mata34560ffd5d69bdce838fbe729b84525.npz'\r\n",
      "'*solvation-b3-a2-c15--skip_errors.matc7d3ecb2312adf488b7fc9081c0f6bf5.csv'\r\n",
      "'*solvation-b3-a2-c15--skip_errors.matc7d3ecb2312adf488b7fc9081c0f6bf5.npz'\r\n"
     ]
    }
   ],
   "source": [
    "!ls binaries"
   ]
  },
  {
   "cell_type": "code",
   "execution_count": null,
   "metadata": {
    "ExecuteTime": {
     "end_time": "2018-05-12T16:24:55.658671Z",
     "start_time": "2018-05-12T16:24:55.632993Z"
    }
   },
   "outputs": [],
   "source": [
    "residues_normalizer = Normalizer()\n",
    "hbonds_normalizer = MaxAbsScaler()\n",
    "solvation_normalizer = MaxAbsScaler()\n",
    "backboneatom_normalizer = Normalizer()\n",
    "\n",
    "CASP = [\n",
    "    ('*residues-d4-b10-a12-c5-n0--skip_errors.mat',\n",
    "     '961920c35dbee45086ef2544978c884f',\n",
    "     lambda X: residues_normalizer.fit_transform(X),\n",
    "     lambda X: residues_normalizer.transform(X)),\n",
    "    ('*hbonds-b6-a6-c6-n2--skip_errors.mat',\n",
    "     '961920c35dbee45086ef2544978c884f',\n",
    "     lambda X: hbonds_normalizer.fit_transform(X),\n",
    "     lambda X: hbonds_normalizer.transform(X)),\n",
    "    ('*solvation-b3-a2-c15--skip_errors.mat',\n",
    "     '961920c35dbee45086ef2544978c884f',\n",
    "     lambda X: solvation_normalizer.fit_transform(X),\n",
    "     lambda X: solvation_normalizer.transform(X)),\n",
    "    ('*backboneatom-b25-c7-n0--residue_type_dependent--skip_errors.mat',\n",
    "     '6ffffc5025bb8a4c3ad76dcd0d823b1e',\n",
    "     lambda X: backboneatom_normalizer.fit_transform(X),\n",
    "     lambda X: backboneatom_normalizer.transform(X)),\n",
    "]\n",
    "\n",
    "NMA = [\n",
    "    ('*residues-d4-b10-a12-c5-n0--skip_errors.mat',\n",
    "     'a34560ffd5d69bdce838fbe729b84525',\n",
    "     lambda X: residues_normalizer.fit_transform(X),\n",
    "     lambda X: residues_normalizer.transform(X)),\n",
    "    ('*hbonds-b6-a6-c6-n2--skip_errors.mat',\n",
    "     'a34560ffd5d69bdce838fbe729b84525',\n",
    "     lambda X: hbonds_normalizer.fit_transform(X),\n",
    "     lambda X: hbonds_normalizer.transform(X)),\n",
    "    ('*solvation-b3-a2-c15--skip_errors.mat',\n",
    "     'a34560ffd5d69bdce838fbe729b84525',\n",
    "     lambda X: solvation_normalizer.fit_transform(X),\n",
    "     lambda X: solvation_normalizer.transform(X)),\n",
    "    ('*backboneatom-b25-c7-n0--residue_type_dependent--skip_errors.mat',\n",
    "     'a34560ffd5d69bdce838fbe729b84525',\n",
    "     lambda X: backboneatom_normalizer.fit_transform(X),\n",
    "     lambda X: backboneatom_normalizer.transform(X)),\n",
    "]\n",
    "\n",
    "CASP_predictions = [\n",
    "    ('*residues-d4-b10-a12-c5-n0--skip_errors.mat',\n",
    "     'c7d3ecb2312adf488b7fc9081c0f6bf5',\n",
    "     lambda X: residues_normalizer.fit_transform(X),\n",
    "     lambda X: residues_normalizer.transform(X)),\n",
    "    ('*hbonds-b6-a6-c6-n2--skip_errors.mat',\n",
    "     'c7d3ecb2312adf488b7fc9081c0f6bf5',\n",
    "     lambda X: hbonds_normalizer.fit_transform(X),\n",
    "     lambda X: hbonds_normalizer.transform(X)),\n",
    "    ('*solvation-b3-a2-c15--skip_errors.mat',\n",
    "     'c7d3ecb2312adf488b7fc9081c0f6bf5',\n",
    "     lambda X: solvation_normalizer.fit_transform(X),\n",
    "     lambda X: solvation_normalizer.transform(X)),\n",
    "    ('*backboneatom-b25-c7-n0--residue_type_dependent--skip_errors.mat',\n",
    "     'c7d3ecb2312adf488b7fc9081c0f6bf5',\n",
    "     lambda X: backboneatom_normalizer.fit_transform(X),\n",
    "     lambda X: backboneatom_normalizer.transform(X)),\n",
    "]"
   ]
  },
  {
   "cell_type": "code",
   "execution_count": null,
   "metadata": {
    "ExecuteTime": {
     "end_time": "2018-05-12T16:36:39.678062Z",
     "start_time": "2018-05-12T16:25:25.161997Z"
    }
   },
   "outputs": [],
   "source": [
    "%%time\n",
    "\n",
    "X_CASP, scores_CASP = get_dataset(\n",
    "    [(pattern, checksum, fit_transform)\n",
    "         for (pattern, checksum, fit_transform, transform) in CASP],\n",
    "    '^.*CASP(11)/T..../.*$'\n",
    ")\n",
    "scores_CASP = scores_CASP[['RMSD', 'GDT-TS-score']]\n",
    "\n",
    "X_NMA, scores_NMA = get_dataset(\n",
    "    [(pattern, checksum, transform)\n",
    "         for (pattern, checksum, fit_transform, transform) in NMA],\n",
    "    '^.*CASP(11)/T..../.*$'\n",
    ")\n",
    "scores_NMA = scores_NMA[['RMSD', 'GDT-TS-score']]\n",
    "\n",
    "X_CASP_predictions, scores_CASP_predictions = get_dataset(\n",
    "    [(pattern, checksum, transform)\n",
    "         for (pattern, checksum, fit_transform, transform) in CASP_predictions],\n",
    "    '^.*CASP(11)Predictions/T..../.*$'\n",
    ")\n",
    "scores_CASP_predictions.rename(columns={'GDT_TS': 'GDT-TS-score'}, inplace=True)\n",
    "scores_CASP_predictions['GDT-TS-score'] /= 100\n",
    "scores_CASP_predictions = scores_CASP_predictions[['RMSD', 'GDT-TS-score']]"
   ]
  },
  {
   "cell_type": "code",
   "execution_count": null,
   "metadata": {
    "ExecuteTime": {
     "end_time": "2018-05-10T18:47:13.797112Z",
     "start_time": "2018-05-10T18:03:33.140809Z"
    }
   },
   "outputs": [],
   "source": [
    "X, scores = combine_datasets(\n",
    "    (X_CASP, scores_CASP),\n",
    "    (X_NMA, scores_NMA),\n",
    "    (X_CASP_predictions, scores_CASP_predictions)\n",
    ")\n",
    "\n",
    "del X_CASP, scores_CASP, X_NMA, scores_NMA, X_CASP_predictions, scores_CASP_predictions"
   ]
  },
  {
   "cell_type": "code",
   "execution_count": null,
   "metadata": {
    "ExecuteTime": {
     "end_time": "2018-05-10T17:29:42.427830Z",
     "start_time": "2018-05-10T17:29:42.412835Z"
    }
   },
   "outputs": [],
   "source": [
    "def dump_model(model, filename):\n",
    "    joblib.dump(\n",
    "        Pipeline([('scaler', CombinedScaler([residues_normalizer, hbonds_normalizer,\n",
    "                                             solvation_normalizer, backboneatom_normalizer])),\n",
    "                  ('scorer', model)]),\n",
    "        filename, protocol=2\n",
    "    )"
   ]
  },
  {
   "cell_type": "markdown",
   "metadata": {},
   "source": [
    "### Train model"
   ]
  },
  {
   "cell_type": "code",
   "execution_count": null,
   "metadata": {
    "ExecuteTime": {
     "end_time": "2018-05-10T19:03:51.273763Z",
     "start_time": "2018-05-10T19:03:41.824321Z"
    }
   },
   "outputs": [],
   "source": [
    "%%time\n",
    "\n",
    "ridge_pipeline = Pipeline([\n",
    "    ('imputer', OneHotImputer(100)),\n",
    "    ('model', RRModel(normalize=False, fit_intercept=False, solver='sparse_cg', alpha=5))\n",
    "])\n",
    "\n",
    "ridge_pipeline.fit(X[:1000], scores[:1000])"
   ]
  },
  {
   "cell_type": "code",
   "execution_count": null,
   "metadata": {
    "ExecuteTime": {
     "end_time": "2018-05-10T17:26:58.539039Z",
     "start_time": "2018-05-10T17:26:58.404364Z"
    }
   },
   "outputs": [],
   "source": [
    "dump_model(ridge_pipeline, 'ridge_pipeline_{}_{}.pkl'.format(*X.shape))"
   ]
  }
 ],
 "metadata": {
  "anaconda-cloud": {},
  "kernelspec": {
   "display_name": "Python 3",
   "language": "python",
   "name": "python3"
  },
  "language_info": {
   "codemirror_mode": {
    "name": "ipython",
    "version": 3
   },
   "file_extension": ".py",
   "mimetype": "text/x-python",
   "name": "python",
   "nbconvert_exporter": "python",
   "pygments_lexer": "ipython3",
   "version": "3.6.5"
  },
  "latex_envs": {
   "LaTeX_envs_menu_present": true,
   "bibliofile": "biblio.bib",
   "cite_by": "apalike",
   "current_citInitial": 1,
   "eqLabelWithNumbers": true,
   "eqNumInitial": 1,
   "hotkeys": {
    "equation": "Ctrl-E",
    "itemize": "Ctrl-I"
   },
   "labels_anchors": false,
   "latex_user_defs": false,
   "report_style_numbering": false,
   "user_envs_cfg": false
  },
  "nav_menu": {
   "height": "570px",
   "width": "271px"
  },
  "toc": {
   "nav_menu": {
    "height": "120px",
    "width": "252px"
   },
   "number_sections": true,
   "sideBar": true,
   "skip_h1_title": true,
   "toc_cell": false,
   "toc_position": {
    "height": "835px",
    "left": "0px",
    "right": "1693px",
    "top": "106px",
    "width": "227px"
   },
   "toc_section_display": "block",
   "toc_window_display": true
  },
  "toc_position": {
   "height": "826px",
   "left": "0px",
   "right": "1434px",
   "top": "106px",
   "width": "246px"
  }
 },
 "nbformat": 4,
 "nbformat_minor": 1
}
