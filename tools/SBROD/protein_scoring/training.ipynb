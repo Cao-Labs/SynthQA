{
 "cells": [
  {
   "cell_type": "code",
   "execution_count": 1,
   "metadata": {
    "ExecuteTime": {
     "end_time": "2017-07-16T17:11:41.800608Z",
     "start_time": "2017-07-16T17:11:38.013593Z"
    },
    "collapsed": true,
    "run_control": {
     "frozen": false,
     "read_only": false
    }
   },
   "outputs": [],
   "source": [
    "import numpy as np\n",
    "import scipy\n",
    "import pandas as pd\n",
    "from matplotlib import pyplot as plt\n",
    "from IPython.display import set_matplotlib_formats\n",
    "set_matplotlib_formats('png', 'pdf')\n",
    "import seaborn\n",
    "import joblib\n",
    "from sklearn.preprocessing import Normalizer, MaxAbsScaler\n",
    "\n",
    "%matplotlib inline\n",
    "%load_ext autoreload\n",
    "%autoreload 2\n",
    "\n",
    "from data_mining import *\n",
    "from stacking.stacking import Stacking"
   ]
  },
  {
   "cell_type": "code",
   "execution_count": 2,
   "metadata": {
    "ExecuteTime": {
     "end_time": "2017-07-16T17:11:41.830251Z",
     "start_time": "2017-07-16T17:11:41.801988Z"
    },
    "collapsed": true,
    "run_control": {
     "frozen": false,
     "read_only": false
    }
   },
   "outputs": [],
   "source": [
    "residues_normalizer = Normalizer()\n",
    "hbonds_normalizer = MaxAbsScaler()\n",
    "solvation_normalizer = MaxAbsScaler()\n",
    "backboneatom_normalizer = Normalizer()\n",
    "\n",
    "CASP = [\n",
    "    ('*residues-d4-b10-a12-c5-n0--skip_errors.mat',\n",
    "     '8269eab4b9ebaa69aa1467308c48ed4f',\n",
    "     lambda X: residues_normalizer.fit_transform(X),\n",
    "     lambda X: residues_normalizer.transform(X)),\n",
    "    ('*hbonds-b6-a6-c6-n2--skip_errors.mat',\n",
    "     '8269eab4b9ebaa69aa1467308c48ed4f',\n",
    "     lambda X: hbonds_normalizer.fit_transform(X),\n",
    "     lambda X: hbonds_normalizer.transform(X)),\n",
    "    ('*solvation-b3-a2-c15--skip_errors.mat',\n",
    "     '8269eab4b9ebaa69aa1467308c48ed4f',\n",
    "     lambda X: solvation_normalizer.fit_transform(X),\n",
    "     lambda X: solvation_normalizer.transform(X)),\n",
    "    ('*backboneatom-b25-c7-n0--residue_type_dependent--skip_errors.mat',\n",
    "     'd3efaf4824785305b93d775d0e3b0a46',\n",
    "     lambda X: backboneatom_normalizer.fit_transform(X),\n",
    "     lambda X: backboneatom_normalizer.transform(X)),\n",
    "]\n",
    "\n",
    "NMA = [\n",
    "    ('*residues-d4-b10-a12-c5-n0--skip_errors.mat',\n",
    "     'c4f25d107683b57acbc6306d9f5108f2',\n",
    "     lambda X: residues_normalizer.fit_transform(X),\n",
    "     lambda X: residues_normalizer.transform(X)),\n",
    "    ('*hbonds-b6-a6-c6-n2--skip_errors.mat',\n",
    "     'c4f25d107683b57acbc6306d9f5108f2',\n",
    "     lambda X: hbonds_normalizer.fit_transform(X),\n",
    "     lambda X: hbonds_normalizer.transform(X)),\n",
    "    ('*solvation-b3-a2-c15--skip_errors.mat',\n",
    "     'c4f25d107683b57acbc6306d9f5108f2',\n",
    "     lambda X: solvation_normalizer.fit_transform(X),\n",
    "     lambda X: solvation_normalizer.transform(X)),\n",
    "    ('*backboneatom-b25-c7-n0--residue_type_dependent--skip_errors.mat',\n",
    "     'c4f25d107683b57acbc6306d9f5108f2',\n",
    "     lambda X: backboneatom_normalizer.fit_transform(X),\n",
    "     lambda X: backboneatom_normalizer.transform(X)),\n",
    "]"
   ]
  },
  {
   "cell_type": "code",
   "execution_count": null,
   "metadata": {
    "ExecuteTime": {
     "start_time": "2017-07-16T17:12:00.455Z"
    },
    "run_control": {
     "frozen": false,
     "read_only": false
    },
    "scrolled": false
   },
   "outputs": [
    {
     "name": "stdout",
     "output_type": "stream",
     "text": [
      "Shape of the first dataset:  (160586, 4371840)\n",
      "Shape of the second dataset: (160586, 216)\n",
      "Shape of the final dataset:  (160586, 4372056)\n",
      "Shape of the first dataset:  (160586, 4372056)\n",
      "Shape of the second dataset: (160586, 138)\n",
      "Shape of the final dataset:  (160586, 4372194)\n",
      "Shape of the first dataset:  (160586, 4372194)\n",
      "Shape of the second dataset: (160579, 239775)\n",
      "Shape of the final dataset:  (160579, 4611969)\n",
      "Shape of the first dataset:  (181391, 4371840)\n",
      "Shape of the second dataset: (181391, 216)\n",
      "Shape of the final dataset:  (181391, 4372056)\n",
      "Shape of the first dataset:  (181391, 4372056)\n",
      "Shape of the second dataset: (181391, 138)\n",
      "Shape of the final dataset:  (181391, 4372194)\n",
      "Shape of the first dataset:  (181391, 4372194)\n",
      "Shape of the second dataset: (181391, 239775)\n",
      "CPU times: user 24min 15s, sys: 11min 39s, total: 35min 55s\n",
      "Wall time: 36min 4s\n"
     ]
    }
   ],
   "source": [
    "%%time\n",
    "\n",
    "X, scores = combine_datasets(\n",
    "    get_dataset(\n",
    "        [(pattern, checksum, fit_transform)\n",
    "             for (pattern, checksum, fit_transform, transform) in CASP],\n",
    "        '^.*CASP([5-9]|10)/T..../.*$'\n",
    "    ),\n",
    "    get_dataset(\n",
    "        [(pattern, checksum, transform)\n",
    "             for (pattern, checksum, fit_transform, transform) in NMA],\n",
    "        '^.*CASP([5-9]|10)/T..../.*$'\n",
    "    )\n",
    ")"
   ]
  },
  {
   "cell_type": "code",
   "execution_count": 17,
   "metadata": {
    "ExecuteTime": {
     "end_time": "2017-07-16T17:55:06.406623Z",
     "start_time": "2017-07-16T17:55:06.388928Z"
    },
    "collapsed": true,
    "run_control": {
     "frozen": false,
     "read_only": false
    }
   },
   "outputs": [],
   "source": [
    "def dump_model(model, filename):\n",
    "    joblib.dump(\n",
    "        Pipeline([('scaler', CombinedScaler([residues_normalizer, hbonds_normalizer,\n",
    "                                             solvation_normalizer, backboneatom_normalizer])),\n",
    "                  ('scorer', model)]),\n",
    "        filename, protocol=2\n",
    "    )"
   ]
  },
  {
   "cell_type": "code",
   "execution_count": 5,
   "metadata": {
    "ExecuteTime": {
     "end_time": "2017-06-08T08:17:28.729810Z",
     "start_time": "2017-06-08T08:17:28.717213Z"
    },
    "collapsed": true,
    "run_control": {
     "frozen": false,
     "read_only": false
    }
   },
   "outputs": [],
   "source": [
    "X_total = X\n",
    "scores_total = scores"
   ]
  },
  {
   "cell_type": "code",
   "execution_count": 6,
   "metadata": {
    "ExecuteTime": {
     "end_time": "2017-06-08T08:23:05.577651Z",
     "start_time": "2017-06-08T08:17:36.229837Z"
    },
    "collapsed": true,
    "run_control": {
     "frozen": false,
     "read_only": false
    }
   },
   "outputs": [],
   "source": [
    "np.random.seed(1)\n",
    "targets = list(set([x.split('/')[6] for x in scores_total.index if x.split('/')[5] != 'CASP11']))\n",
    "\n",
    "for p in np.linspace(0.01, 0.1, 6, endpoint=False):\n",
    "    train_targets = np.random.choice(targets, int(len(targets) * p), replace=False)\n",
    "    idx = np.array([x.split('/')[6] in train_targets for x in scores_total.index], dtype=bool)\n",
    "\n",
    "    X, scores = X_total[idx], scores_total[idx]\n",
    "\n",
    "    training_info = '_'.join(str(x) for x in X.shape)\n",
    "\n",
    "    ridge_pipeline = Pipeline([\n",
    "        ('imputer', OneHotImputer(100)),\n",
    "        ('model', RRModel(normalize=False, fit_intercept=False, solver='sparse_cg', alpha=5))\n",
    "    ])\n",
    "\n",
    "    ridge_pipeline.fit(X, scores)\n",
    "\n",
    "    dump_model(ridge_pipeline, 'ridge_pipeline_CASP_{}__{}.pkl'.format(len(set(train_targets)), training_info))"
   ]
  },
  {
   "cell_type": "markdown",
   "metadata": {
    "run_control": {
     "frozen": false,
     "read_only": false
    }
   },
   "source": [
    "# Regression"
   ]
  },
  {
   "cell_type": "code",
   "execution_count": null,
   "metadata": {
    "collapsed": true,
    "run_control": {
     "frozen": false,
     "read_only": false
    }
   },
   "outputs": [],
   "source": [
    "training_info = 'GDT_TS_model_' + '_'.join(str(x) for x in X.shape)"
   ]
  },
  {
   "cell_type": "markdown",
   "metadata": {
    "run_control": {
     "frozen": false,
     "read_only": false
    }
   },
   "source": [
    "## Ridge Regression"
   ]
  },
  {
   "cell_type": "code",
   "execution_count": null,
   "metadata": {
    "collapsed": true,
    "run_control": {
     "frozen": false,
     "read_only": false
    }
   },
   "outputs": [],
   "source": [
    "%%time\n",
    "\n",
    "ridge_pipeline = RRModel(normalize=False, fit_intercept=False, solver='sparse_cg', alpha=5)\n",
    "\n",
    "ridge_pipeline.fit(X, scores)"
   ]
  },
  {
   "cell_type": "code",
   "execution_count": null,
   "metadata": {
    "collapsed": true,
    "run_control": {
     "frozen": false,
     "read_only": false
    }
   },
   "outputs": [],
   "source": [
    "dump_model(ridge_pipeline, 'ridge_pipeline_{}.pkl'.format(training_info))"
   ]
  },
  {
   "cell_type": "markdown",
   "metadata": {
    "run_control": {
     "frozen": false,
     "read_only": false
    }
   },
   "source": [
    "## Weighted Ridge Regression"
   ]
  },
  {
   "cell_type": "code",
   "execution_count": null,
   "metadata": {
    "collapsed": true,
    "run_control": {
     "frozen": false,
     "read_only": false
    }
   },
   "outputs": [],
   "source": [
    "%%time\n",
    "\n",
    "ridge_pipeline = RRModel(normalize=False, fit_intercept=False, solver='sparse_cg', alpha=5)\n",
    "\n",
    "ridge_pipeline.fit(X, scores, model__sample_weight=scores['GDT-TS-score'].values ** 2)"
   ]
  },
  {
   "cell_type": "code",
   "execution_count": null,
   "metadata": {
    "collapsed": true,
    "run_control": {
     "frozen": false,
     "read_only": false
    }
   },
   "outputs": [],
   "source": [
    "dump_model(ridge_pipeline, 'weighted_ridge_pipeline_{}.pkl'.format(training_info))"
   ]
  },
  {
   "cell_type": "markdown",
   "metadata": {
    "run_control": {
     "frozen": false,
     "read_only": false
    }
   },
   "source": [
    "# Ranking"
   ]
  },
  {
   "cell_type": "code",
   "execution_count": 18,
   "metadata": {
    "ExecuteTime": {
     "end_time": "2017-07-16T17:55:15.165335Z",
     "start_time": "2017-07-16T17:55:15.149649Z"
    },
    "collapsed": true,
    "run_control": {
     "frozen": false,
     "read_only": false
    }
   },
   "outputs": [],
   "source": [
    "training_info = '_'.join(str(x) for x in X.shape)"
   ]
  },
  {
   "cell_type": "markdown",
   "metadata": {
    "run_control": {
     "frozen": false,
     "read_only": false
    }
   },
   "source": [
    "## Ridge Regression"
   ]
  },
  {
   "cell_type": "code",
   "execution_count": null,
   "metadata": {
    "ExecuteTime": {
     "start_time": "2017-07-16T17:56:19.024Z"
    },
    "collapsed": true,
    "run_control": {
     "frozen": false,
     "read_only": false
    }
   },
   "outputs": [],
   "source": [
    "%%time\n",
    "\n",
    "ridge_pipeline = Pipeline([\n",
    "    ('imputer', OneHotImputer(100)),\n",
    "    ('model', RRModel(normalize=False, fit_intercept=False, solver='sparse_cg', alpha=5))\n",
    "])\n",
    "\n",
    "ridge_pipeline.fit(X, scores)"
   ]
  },
  {
   "cell_type": "code",
   "execution_count": null,
   "metadata": {
    "ExecuteTime": {
     "start_time": "2017-07-16T17:56:57.296Z"
    },
    "collapsed": true,
    "run_control": {
     "frozen": false,
     "read_only": false
    }
   },
   "outputs": [],
   "source": [
    "dump_model(ridge_pipeline, 'ridge_pipeline_{}.pkl'.format(training_info))"
   ]
  },
  {
   "cell_type": "code",
   "execution_count": null,
   "metadata": {
    "ExecuteTime": {
     "start_time": "2017-07-16T17:56:19.024Z"
    },
    "collapsed": true,
    "run_control": {
     "frozen": false,
     "read_only": false
    }
   },
   "outputs": [],
   "source": [
    "%%time\n",
    "\n",
    "ridge_pipeline = Pipeline([\n",
    "    ('imputer', OneHotImputer(100)),\n",
    "    ('model', RRModel(normalize=False, fit_intercept=False, solver='sparse_cg', alpha=5))\n",
    "])\n",
    "\n",
    "ridge_pipeline.fit(X[scores.RMSD.values < 15], scores[scores.RMSD.values < 15])"
   ]
  },
  {
   "cell_type": "code",
   "execution_count": null,
   "metadata": {
    "ExecuteTime": {
     "start_time": "2017-07-16T17:56:57.296Z"
    },
    "collapsed": true,
    "run_control": {
     "frozen": false,
     "read_only": false
    }
   },
   "outputs": [],
   "source": [
    "dump_model(ridge_pipeline, 'ridge_pipeline_{}.pkl'.format(training_info + '_purified_15A'))"
   ]
  },
  {
   "cell_type": "markdown",
   "metadata": {
    "run_control": {
     "frozen": false,
     "read_only": false
    }
   },
   "source": [
    "## Weighted Ridge Regression"
   ]
  },
  {
   "cell_type": "code",
   "execution_count": null,
   "metadata": {
    "collapsed": true,
    "run_control": {
     "frozen": false,
     "read_only": false
    }
   },
   "outputs": [],
   "source": [
    "%%time\n",
    "\n",
    "ridge_pipeline = Pipeline([\n",
    "    ('imputer', OneHotImputer(100)),\n",
    "    ('model', RRModel(normalize=False, fit_intercept=False, solver='sparse_cg', alpha=5))\n",
    "])\n",
    "\n",
    "ridge_pipeline.fit(X, scores, model__sample_weight=scores['GDT-TS-score'].values ** 2)"
   ]
  },
  {
   "cell_type": "code",
   "execution_count": null,
   "metadata": {
    "collapsed": true,
    "run_control": {
     "frozen": false,
     "read_only": false
    }
   },
   "outputs": [],
   "source": [
    "dump_model(ridge_pipeline, 'weighted_ridge_pipeline_{}.pkl'.format(training_info))"
   ]
  },
  {
   "cell_type": "markdown",
   "metadata": {
    "run_control": {
     "frozen": false,
     "read_only": false
    }
   },
   "source": [
    "## Ridge Native"
   ]
  },
  {
   "cell_type": "code",
   "execution_count": null,
   "metadata": {
    "collapsed": true,
    "run_control": {
     "frozen": false,
     "read_only": false
    }
   },
   "outputs": [],
   "source": [
    "%%time\n",
    "\n",
    "ridge_native = RRModelNative(normalize=False, fit_intercept=False, solver='sparse_cg', alpha=0.8)\n",
    "\n",
    "ridge_native.fit(X, scores)"
   ]
  },
  {
   "cell_type": "code",
   "execution_count": null,
   "metadata": {
    "collapsed": true,
    "run_control": {
     "frozen": false,
     "read_only": false
    }
   },
   "outputs": [],
   "source": [
    "dump_model(ridge_native, 'ridge_native_{}.pkl'.format(training_info))"
   ]
  },
  {
   "cell_type": "markdown",
   "metadata": {
    "run_control": {
     "frozen": false,
     "read_only": false
    }
   },
   "source": [
    "## Ridge(LR)"
   ]
  },
  {
   "cell_type": "code",
   "execution_count": null,
   "metadata": {
    "collapsed": true,
    "run_control": {
     "frozen": false,
     "read_only": false
    },
    "scrolled": true
   },
   "outputs": [],
   "source": [
    "%%time\n",
    "\n",
    "ridge__LR = Stacking(\n",
    "    base_estimators=[\n",
    "        (Pipeline([('imputer', OneHotImputer(5)),\n",
    "                   ('model', LRModel(fit_intercept=True, penalty='l2', solver='lbfgs',\n",
    "                                     C=100, class_weight={False: 1, True: 20}))]).fit, base_predict)\n",
    "    ],\n",
    "    meta_fitter=Pipeline([('imputer', OneHotImputer(100)),\n",
    "                          ('model', RRModel(normalize=False, fit_intercept=False,\n",
    "                                            solver='sparse_cg', alpha=5))]).fit,\n",
    "    get_folds=get_folds,\n",
    "    n_folds=8,\n",
    "    extend_meta=True\n",
    ")\n",
    "\n",
    "ridge__LR.fit(X, scores)"
   ]
  },
  {
   "cell_type": "code",
   "execution_count": null,
   "metadata": {
    "collapsed": true,
    "run_control": {
     "frozen": false,
     "read_only": false
    }
   },
   "outputs": [],
   "source": [
    "dump_model(ridge__LR, 'ridge__LR_{}.pkl'.format(training_info))"
   ]
  },
  {
   "cell_type": "markdown",
   "metadata": {
    "run_control": {
     "frozen": false,
     "read_only": false
    }
   },
   "source": [
    "## Ridge(RidgeNative)"
   ]
  },
  {
   "cell_type": "code",
   "execution_count": null,
   "metadata": {
    "collapsed": true,
    "run_control": {
     "frozen": false,
     "read_only": false
    }
   },
   "outputs": [],
   "source": [
    "%%time\n",
    "\n",
    "ridge__ridge_native = Stacking(\n",
    "    base_estimators=[\n",
    "        (RRModelNative(normalize=False, fit_intercept=False, solver='sparse_cg', alpha=0.8).fit, base_predict)\n",
    "    ],\n",
    "    meta_fitter=Pipeline([('imputer', OneHotImputer(100)),\n",
    "                          ('model', RRModel(normalize=False, fit_intercept=False,\n",
    "                                            solver='sparse_cg', alpha=5))]).fit,\n",
    "    get_folds=get_folds,\n",
    "    n_folds=8,\n",
    "    extend_meta=True\n",
    ")\n",
    "\n",
    "ridge__ridge_native.fit(X, scores)"
   ]
  },
  {
   "cell_type": "code",
   "execution_count": null,
   "metadata": {
    "collapsed": true,
    "run_control": {
     "frozen": false,
     "read_only": false
    }
   },
   "outputs": [],
   "source": [
    "dump_model(ridge__ridge_native, 'ridge__ridge_native_{}.pkl'.format(training_info))"
   ]
  },
  {
   "cell_type": "markdown",
   "metadata": {
    "run_control": {
     "frozen": false,
     "read_only": false
    }
   },
   "source": [
    "## Ridge(RidgeNative, Ridge, LR)"
   ]
  },
  {
   "cell_type": "code",
   "execution_count": null,
   "metadata": {
    "collapsed": true,
    "run_control": {
     "frozen": false,
     "read_only": false
    }
   },
   "outputs": [],
   "source": [
    "%%time\n",
    "\n",
    "ridge_all = Stacking(\n",
    "    base_estimators=[\n",
    "        (Pipeline([('imputer', OneHotImputer(5)),\n",
    "                   ('model', LRModel(fit_intercept=True, penalty='l2', solver='lbfgs',\n",
    "                                     C=100, class_weight={False: 1, True: 20}))]).fit, base_predict),\n",
    "        (RRModelNative(normalize=False, fit_intercept=False, solver='sparse_cg', alpha=0.8).fit, base_predict),\n",
    "        (RRModelNative(normalize=False, fit_intercept=True, alpha=8).fit, base_predict),\n",
    "        (Pipeline([('imputer', OneHotImputer(100)),\n",
    "                          ('model', RRModel(normalize=False, fit_intercept=False,\n",
    "                                            solver='sparse_cg', alpha=5))]).fit, base_predict),\n",
    "    ],\n",
    "    meta_fitter=Pipeline([('imputer', OneHotImputer(1)),\n",
    "                          ('model', RRModel(normalize=False, fit_intercept=True, alpha=0.01))]).fit,\n",
    "    get_folds=get_folds,\n",
    "    n_folds=8,\n",
    "    extend_meta=False\n",
    ")\n",
    "\n",
    "ridge_all.fit(X, scores)"
   ]
  },
  {
   "cell_type": "code",
   "execution_count": null,
   "metadata": {
    "collapsed": true,
    "run_control": {
     "frozen": false,
     "read_only": false
    }
   },
   "outputs": [],
   "source": [
    "dump_model(ridge_all, 'ridge_all_{}.pkl'.format(training_info))"
   ]
  },
  {
   "cell_type": "markdown",
   "metadata": {
    "run_control": {
     "frozen": false,
     "read_only": false
    }
   },
   "source": [
    "## Ranking Stacking"
   ]
  },
  {
   "cell_type": "code",
   "execution_count": null,
   "metadata": {
    "collapsed": true,
    "run_control": {
     "frozen": false,
     "read_only": false
    }
   },
   "outputs": [],
   "source": [
    "%%time\n",
    "\n",
    "ranking_stacking = Stacking(\n",
    "    base_estimators=[\n",
    "        (Pipeline([('imputer', OneHotImputer(5)),\n",
    "                   ('model', LRModel(fit_intercept=True, penalty='l2', solver='lbfgs',\n",
    "                                     C=100, class_weight={False: 1, True: 20}))]).fit, base_predict),\n",
    "        (Pipeline([('imputer', OneHotImputer(100)),\n",
    "                   ('model', RRModel(normalize=False, fit_intercept=False,\n",
    "                                     solver='sparse_cg', alpha=5))]).fit, base_predict),\n",
    "        (RRModelNative(normalize=False, fit_intercept=False, solver='sparse_cg', alpha=1).fit, base_predict),\n",
    "    ],\n",
    "    meta_fitter=RankingLR(penalty='l1', fit_intercept=False, C=1, rank_transform_threshold=0.01).fit,\n",
    "    get_folds=get_folds,\n",
    "    n_folds=8,\n",
    "    extend_meta=False\n",
    ")\n",
    "\n",
    "ranking_stacking.fit(X, scores)"
   ]
  },
  {
   "cell_type": "code",
   "execution_count": null,
   "metadata": {
    "collapsed": true,
    "run_control": {
     "frozen": false,
     "read_only": false
    }
   },
   "outputs": [],
   "source": [
    "dump_model(ranking_stacking, 'ranking_stacking_{}.pkl'.format(training_info))"
   ]
  }
 ],
 "metadata": {
  "anaconda-cloud": {},
  "kernelspec": {
   "display_name": "Python [default]",
   "language": "python",
   "name": "python3"
  },
  "language_info": {
   "codemirror_mode": {
    "name": "ipython",
    "version": 3
   },
   "file_extension": ".py",
   "mimetype": "text/x-python",
   "name": "python",
   "nbconvert_exporter": "python",
   "pygments_lexer": "ipython3",
   "version": "3.5.3"
  },
  "latex_envs": {
   "LaTeX_envs_menu_present": true,
   "bibliofile": "biblio.bib",
   "cite_by": "apalike",
   "current_citInitial": 1,
   "eqLabelWithNumbers": true,
   "eqNumInitial": 1,
   "hotkeys": {
    "equation": "Ctrl-E",
    "itemize": "Ctrl-I"
   },
   "labels_anchors": false,
   "latex_user_defs": false,
   "report_style_numbering": false,
   "user_envs_cfg": false
  },
  "nav_menu": {
   "height": "570px",
   "width": "271px"
  },
  "toc": {
   "colors": {
    "hover_highlight": "#DAA520",
    "running_highlight": "#FF0000",
    "selected_highlight": "#FFD700"
   },
   "moveMenuLeft": true,
   "nav_menu": {
    "height": "120px",
    "width": "252px"
   },
   "navigate_menu": true,
   "number_sections": true,
   "sideBar": true,
   "threshold": 6,
   "toc_cell": false,
   "toc_position": {
    "height": "835px",
    "left": "0px",
    "right": "1693px",
    "top": "106px",
    "width": "227px"
   },
   "toc_section_display": "block",
   "toc_window_display": true
  },
  "toc_position": {
   "height": "826px",
   "left": "0px",
   "right": "1434px",
   "top": "106px",
   "width": "246px"
  }
 },
 "nbformat": 4,
 "nbformat_minor": 1
}
